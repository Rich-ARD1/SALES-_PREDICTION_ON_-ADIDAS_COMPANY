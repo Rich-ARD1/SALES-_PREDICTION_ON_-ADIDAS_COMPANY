{
 "cells": [
  {
   "cell_type": "code",
   "execution_count": 47,
   "metadata": {},
   "outputs": [],
   "source": [
    "import pandas as pd\n",
    "import numpy as np\n",
    "import matplotlib.pyplot as plt\n",
    "import seaborn as sns\n",
    "from sklearn.model_selection import train_test_split\n",
    "from sklearn.linear_model import LinearRegression\n",
    "from sklearn import metrics\n",
    "from sklearn.metrics import r2_score\n",
    "from sklearn.metrics import classification_report\n",
    "from sklearn.tree import DecisionTreeRegressor\n",
    "from sklearn.ensemble import RandomForestRegressor\n",
    "from sklearn.model_selection import cross_val_score\n",
    "from sklearn.metrics import mean_squared_error\n",
    "from sklearn.metrics import precision_score\n",
    "from sklearn.metrics import recall_score\n",
    "from sklearn.metrics import accuracy_score\n",
    "from sklearn.metrics import f1_score\n",
    "from sklearn.metrics import mean_absolute_error"
   ]
  },
  {
   "cell_type": "code",
   "execution_count": 48,
   "metadata": {},
   "outputs": [],
   "source": [
    "df = pd.read_csv(r'C:\\Users\\Rich\\Desktop\\Adidas US Sales Datasets.csv')"
   ]
  },
  {
   "cell_type": "code",
   "execution_count": 49,
   "metadata": {},
   "outputs": [],
   "source": [
    "df = df. drop(labels=[0,1], axis = 0)\n",
    "df = df.reset_index(drop=True)\n",
    "df.columns = df.iloc[0]\n",
    "df = df.drop(labels=[0], axis=0)"
   ]
  },
  {
   "cell_type": "code",
   "execution_count": 50,
   "metadata": {},
   "outputs": [
    {
     "name": "stderr",
     "output_type": "stream",
     "text": [
      "C:\\Users\\Rich\\AppData\\Local\\Temp\\ipykernel_8816\\2412584080.py:1: FutureWarning: The default value of regex will change from True to False in a future version. In addition, single character regular expressions will *not* be treated as literal strings when regex=True.\n",
      "  df['Price per Unit'] = df['Price per Unit'].str.replace('$', '').str.strip()\n",
      "C:\\Users\\Rich\\AppData\\Local\\Temp\\ipykernel_8816\\2412584080.py:3: FutureWarning: The default value of regex will change from True to False in a future version. In addition, single character regular expressions will *not* be treated as literal strings when regex=True.\n",
      "  df['Total Sales'] = df['Total Sales'].str.replace('$', '').str.strip()\n",
      "C:\\Users\\Rich\\AppData\\Local\\Temp\\ipykernel_8816\\2412584080.py:4: FutureWarning: The default value of regex will change from True to False in a future version. In addition, single character regular expressions will *not* be treated as literal strings when regex=True.\n",
      "  df['Operating Margin'] = df['Operating Margin'].str.replace('$', '').str.strip()\n",
      "C:\\Users\\Rich\\AppData\\Local\\Temp\\ipykernel_8816\\2412584080.py:9: FutureWarning: The default value of regex will change from True to False in a future version. In addition, single character regular expressions will *not* be treated as literal strings when regex=True.\n",
      "  df['Operating Profit'] = df['Operating Profit'].str.replace('$', '').str.strip()\n"
     ]
    }
   ],
   "source": [
    "df['Price per Unit'] = df['Price per Unit'].str.replace('$', '').str.strip()\n",
    "df['Units Sold'] = df['Units Sold'].str.replace(',', '')\n",
    "df['Total Sales'] = df['Total Sales'].str.replace('$', '').str.strip()\n",
    "df['Operating Margin'] = df['Operating Margin'].str.replace('$', '').str.strip()\n",
    "df['Operating Margin'] = df['Operating Margin'].str.replace('%', '', regex=True)\n",
    "df['Total Sales'] = df['Total Sales'].str.replace(',', '', regex=True)\n",
    "df['Price per Unit'] = df['Price per Unit'].str.replace(',', '', regex=True)\n",
    "df[['Price per Unit','Units Sold','Total Sales','Operating Margin']]= df[['Price per Unit','Units Sold','Total Sales','Operating Margin']].astype(float)\n",
    "df['Operating Profit'] = df['Operating Profit'].str.replace('$', '').str.strip()\n",
    "df['Operating Profit'] = df['Operating Profit'].str.replace(',', '').str.strip()\n"
   ]
  },
  {
   "cell_type": "code",
   "execution_count": 51,
   "metadata": {},
   "outputs": [],
   "source": [
    "df2 = df.copy()"
   ]
  },
  {
   "cell_type": "markdown",
   "metadata": {},
   "source": [
    "PREDICTION MODEL "
   ]
  },
  {
   "cell_type": "code",
   "execution_count": 52,
   "metadata": {},
   "outputs": [],
   "source": [
    "df2['Region']=pd.factorize(df2.Region)[0]\n",
    "df2['State']=pd.factorize(df2.State)[0]\n",
    "df2['City']=pd.factorize(df2.City)[0]\n",
    "df2['Product']=pd.factorize(df2.Product)[0]\n",
    "df2['Retailer']=pd.factorize(df2.Retailer)[0]\n",
    "df2.rename(columns = {'Sales Method':'Method'}, inplace = True)\n",
    "df2['Method']=pd.factorize(df2.Method)[0]\n",
    "df2 = df2.drop('Invoice Date',axis=1)\n",
    "df2 = df2.drop('Retailer ID',axis=1)"
   ]
  },
  {
   "cell_type": "code",
   "execution_count": 53,
   "metadata": {},
   "outputs": [],
   "source": [
    "df2['Units Sold'] = df2['Units Sold'].astype(int)\n",
    "df2['Total Sales'] = df2['Total Sales'].astype(int)\n",
    "df2['Operating Profit'] = df2['Operating Profit'].astype(int)\n",
    "df2['Retailer'] = df2['Retailer'].astype(int)"
   ]
  },
  {
   "cell_type": "code",
   "execution_count": 54,
   "metadata": {},
   "outputs": [],
   "source": [
    "X = df2.values[:, (0,1,2,3,4,5,6,8,9,10)]\n",
    "Y = df2.values[:, 7]"
   ]
  },
  {
   "cell_type": "markdown",
   "metadata": {},
   "source": [
    "SPLITTING TRAIN AND TEST DATASET"
   ]
  },
  {
   "cell_type": "code",
   "execution_count": 55,
   "metadata": {},
   "outputs": [],
   "source": [
    "X_train, X_test, y_train, y_test = train_test_split(X, Y, test_size = 0.2, random_state = 0)"
   ]
  },
  {
   "cell_type": "code",
   "execution_count": 56,
   "metadata": {},
   "outputs": [
    {
     "data": {
      "text/plain": [
       "DecisionTreeRegressor(random_state=42)"
      ]
     },
     "execution_count": 56,
     "metadata": {},
     "output_type": "execute_result"
    }
   ],
   "source": [
    "Model_dt = DecisionTreeRegressor(random_state=42)\n",
    "Model_dt.fit(X_train,y_train)"
   ]
  },
  {
   "cell_type": "code",
   "execution_count": 57,
   "metadata": {},
   "outputs": [],
   "source": [
    "y_pred_dt = Model_dt.predict(X_test)"
   ]
  },
  {
   "cell_type": "code",
   "execution_count": 58,
   "metadata": {},
   "outputs": [
    {
     "data": {
      "text/plain": [
       "0.9986512115879234"
      ]
     },
     "execution_count": 58,
     "metadata": {},
     "output_type": "execute_result"
    }
   ],
   "source": [
    "r2_dt = r2_score(y_test,y_pred_dt)\n",
    "r2_dt"
   ]
  },
  {
   "cell_type": "code",
   "execution_count": 59,
   "metadata": {},
   "outputs": [
    {
     "data": {
      "text/plain": [
       "25568608.50207254"
      ]
     },
     "execution_count": 59,
     "metadata": {},
     "output_type": "execute_result"
    }
   ],
   "source": [
    "mse_dt = mean_squared_error(y_test,y_pred_dt)\n",
    "mse_dt"
   ]
  },
  {
   "cell_type": "code",
   "execution_count": 60,
   "metadata": {},
   "outputs": [
    {
     "data": {
      "text/plain": [
       "956.5518134715026"
      ]
     },
     "execution_count": 60,
     "metadata": {},
     "output_type": "execute_result"
    }
   ],
   "source": [
    "mae_dt = mean_absolute_error(y_test,y_pred_dt)\n",
    "mae_dt"
   ]
  },
  {
   "cell_type": "code",
   "execution_count": 61,
   "metadata": {},
   "outputs": [
    {
     "data": {
      "text/plain": [
       "RandomForestRegressor(random_state=42)"
      ]
     },
     "execution_count": 61,
     "metadata": {},
     "output_type": "execute_result"
    }
   ],
   "source": [
    "Model_rfr = RandomForestRegressor(random_state=42)\n",
    "Model_rfr.fit(X_train,y_train)"
   ]
  },
  {
   "cell_type": "code",
   "execution_count": 62,
   "metadata": {},
   "outputs": [],
   "source": [
    "y_pred = Model_rfr.predict(X_test)"
   ]
  },
  {
   "cell_type": "code",
   "execution_count": 63,
   "metadata": {},
   "outputs": [
    {
     "data": {
      "text/plain": [
       "Text(0.5, 1.0, 'Model correlation scatterplot')"
      ]
     },
     "execution_count": 63,
     "metadata": {},
     "output_type": "execute_result"
    },
    {
     "data": {
      "image/png": "[encoded data removed]",
      "text/plain": [
       "<Figure size 432x288 with 1 Axes>"
      ]
     },
     "metadata": {
      "needs_background": "light"
     },
     "output_type": "display_data"
    }
   ],
   "source": [
    "df2['sales_pred']= Model_rfr.predict(X)\n",
    "plt.scatter(df2['sales_pred'],df2['Total Sales'])\n",
    "plt.xlabel(\"sales_pred\")\n",
    "plt.ylabel(\"Total Sales\")\n",
    "plt.title('Model correlation scatterplot')"
   ]
  },
  {
   "cell_type": "code",
   "execution_count": 64,
   "metadata": {},
   "outputs": [
    {
     "data": {
      "image/png": "[encoded data removed]",
      "text/plain": [
       "<Figure size 432x288 with 1 Axes>"
      ]
     },
     "metadata": {
      "needs_background": "light"
     },
     "output_type": "display_data"
    }
   ],
   "source": [
    "plt.scatter(y_test, y_pred)\n",
    "\n",
    "# Add a diagonal line for reference\n",
    "plt.plot([y_test.min(), y_test.max()], [y_test.min(), y_test.max()], 'k--', lw=4)\n",
    "\n",
    "# Set the plot title and axis labels\n",
    "plt.title('Actual vs. Predicted Sales')\n",
    "plt.xlabel('Actual Sales')\n",
    "plt.ylabel('Predicted Sales')\n",
    "\n",
    "# Show the plot\n",
    "plt.show()"
   ]
  }
 ],
 "metadata": {
  "kernelspec": {
   "display_name": "base",
   "language": "python",
   "name": "python3"
  },
  "language_info": {
   "codemirror_mode": {
    "name": "ipython",
    "version": 3
   },
   "file_extension": ".py",
   "mimetype": "text/x-python",
   "name": "python",
   "nbconvert_exporter": "python",
   "pygments_lexer": "ipython3",
   "version": "3.9.12"
  }
 },
 "nbformat": 4,
 "nbformat_minor": 2
}
